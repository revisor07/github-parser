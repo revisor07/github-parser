{
 "cells": [
  {
   "cell_type": "code",
   "execution_count": 2,
   "metadata": {},
   "outputs": [],
   "source": [
    "import datetime\n",
    "import numpy\n",
    "import os\n",
    "from matplotlib import pyplot as plt\n",
    "import matplotlib"
   ]
  },
  {
   "cell_type": "code",
   "execution_count": 3,
   "metadata": {},
   "outputs": [],
   "source": [
    "#file paths\n",
    "s_path = os.path.join(os.path.expanduser('~'), 'Documents', 'Talent Games', \n",
    "  'time_vs_commits', 'FB_stocks.txt')\n",
    "c_path = os.path.join(os.path.expanduser('~'), 'Documents', 'Talent Games', \n",
    "  'time_vs_commits', 'FB_commits.txt')"
   ]
  },
  {
   "cell_type": "code",
   "execution_count": 4,
   "metadata": {},
   "outputs": [],
   "source": [
    "sample_size = 364\n",
    "start_year = 2017\n",
    "day_list = []\n",
    "for i in range (1, sample_size):\n",
    "    day_list.insert(i, i)\n",
    "stocks_diff = []\n",
    "commits_list = []\n",
    "commits_diff = []\n",
    "stocks_raw = []\n",
    "commits_raw = []\n",
    "values_offset = 1;\n",
    "with open(s_path) as s:\n",
    "  stocks_raw = s.readlines()\n",
    "with open(c_path) as c:\n",
    "  commits_raw = c.readlines()"
   ]
  },
  {
   "cell_type": "code",
   "execution_count": 5,
   "metadata": {},
   "outputs": [],
   "source": [
    "#stocks\n",
    "prev_stock = float(stocks_raw[0].split(\"\\t\")[1])\n",
    "raw_i = 1;\n",
    "for i in range (0, sample_size):\n",
    "  line = stocks_raw[raw_i].split(\"\\t\")\n",
    "  date_string = line[0]\n",
    "  stock = float(line[1])\n",
    "  dt = datetime.datetime.strptime(date_string,\"%Y-%m-%d\")\n",
    "  dt0 = datetime.datetime(start_year, 2, 1)\n",
    "  day_of_year = (dt - dt0).days\n",
    "  if i == day_of_year:\n",
    "    stocks_diff.insert(i, stock-prev_stock)\n",
    "    prev_stock = stock\n",
    "    raw_i+=1\n",
    "  else:\n",
    "    stocks_diff.insert(i, 0)\n",
    "stocks_diff.remove(0)"
   ]
  },
  {
   "cell_type": "code",
   "execution_count": 6,
   "metadata": {},
   "outputs": [],
   "source": [
    "#commits\n",
    "for i in range (0, sample_size):\n",
    "  line = commits_raw[i].split(\"\\t\")\n",
    "  date_string = line[0]\n",
    "  commits = float(line[1])\n",
    "  dt = datetime.datetime.strptime(date_string,\"%Y-%m-%d\")\n",
    "  dt0 = datetime.datetime(start_year, 2, 1)\n",
    "  day_of_year = (dt - dt0).days\n",
    "  if i == day_of_year :\n",
    "    commits_list.insert(i, commits)\n",
    "  else:\n",
    "    commits_list.insert(i, 0)\n",
    "#filling differences list\n",
    "for i in range (1, len(commits_list)):\n",
    "    commits_diff.append(commits_list[i]- commits_list[i-1])"
   ]
  },
  {
   "cell_type": "code",
   "execution_count": 7,
   "metadata": {},
   "outputs": [
    {
     "name": "stdout",
     "output_type": "stream",
     "text": [
      "offset 0: 0.030910781356954683\n",
      "offset 1: 0.005057522385180253\n",
      "offset 2: -0.033816812480805376\n",
      "offset 3: -0.004465086114923112\n",
      "offset 4: -0.0017944432418314491\n",
      "offset 5: 0.022977190966457645\n",
      "offset 6: -0.013699245011291966\n",
      "offset 7: 0.03344239015009619\n",
      "offset 8: -0.061241104755693034\n",
      "offset 9: 0.02957219660553759\n"
     ]
    }
   ],
   "source": [
    "#calculating correlation coefficients\n",
    "coeff_list = []\n",
    "for values_offset in range (0, 10):\n",
    "    rel_matrix = numpy.corrcoef(commits_diff[1+values_offset:],stocks_diff[1:len(stocks_diff)-values_offset])\n",
    "    print(\"offset \"+str(values_offset)+\": \"+str(rel_matrix[0,1]))\n",
    "    coeff_list.append(rel_matrix[0,1])"
   ]
  },
  {
   "cell_type": "code",
   "execution_count": 8,
   "metadata": {},
   "outputs": [
    {
     "name": "stderr",
     "output_type": "stream",
     "text": [
      "No handles with labels found to put in legend.\n"
     ]
    },
    {
     "data": {
      "image/png": "[encoded data removed]",
      "text/plain": [
       "<Figure size 432x288 with 1 Axes>"
      ]
     },
     "metadata": {},
     "output_type": "display_data"
    }
   ],
   "source": [
    "#graphing\n",
    "offset_list = [0,1,2,3,4,5,6,7,8,9]\n",
    "#plt.plot(day_list, stocks_diff, 10, c=\"red\", alpha=0.5)\n",
    "#plt.xlabel(\"Day of the Year\")\n",
    "#plt.ylabel(\"Change in stocks\")\n",
    "plt.plot(offset_list, coeff_list, 0.5, c=\"red\", alpha=0.5)\n",
    "plt.xlabel(\"day offset\")\n",
    "plt.ylabel(\"correlation coefficient\")\n",
    "plt.legend(loc=2)\n",
    "plt.show()"
   ]
  }
 ],
 "metadata": {
  "kernelspec": {
   "display_name": "Python 3",
   "language": "python",
   "name": "python3"
  },
  "language_info": {
   "codemirror_mode": {
    "name": "ipython",
    "version": 3
   },
   "file_extension": ".py",
   "mimetype": "text/x-python",
   "name": "python",
   "nbconvert_exporter": "python",
   "pygments_lexer": "ipython3",
   "version": "3.6.5"
  }
 },
 "nbformat": 4,
 "nbformat_minor": 2
}
