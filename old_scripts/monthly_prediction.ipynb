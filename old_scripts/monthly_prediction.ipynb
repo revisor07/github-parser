{
 "cells": [
  {
   "cell_type": "code",
   "execution_count": 8,
   "metadata": {},
   "outputs": [],
   "source": [
    "import datetime\n",
    "import numpy\n",
    "import os\n",
    "from matplotlib import pyplot as plt\n",
    "import matplotlib"
   ]
  },
  {
   "cell_type": "code",
   "execution_count": 9,
   "metadata": {},
   "outputs": [],
   "source": [
    "#file paths\n",
    "s_path = os.path.join(os.path.expanduser('~'), 'Documents', 'Talent Games', \n",
    "  'analytics', 'FB_stocks_5years.txt')\n",
    "c_path = os.path.join(os.path.expanduser('~'), 'Documents', 'Talent Games', \n",
    "  'analytics', 'FB_profiles_5years_outside.txt')"
   ]
  },
  {
   "cell_type": "code",
   "execution_count": 10,
   "metadata": {},
   "outputs": [],
   "source": [
    "sample_size = 60\n",
    "start_year = 2012\n",
    "stocks_diff = []\n",
    "commits_diff = []\n",
    "stocks_raw = []\n",
    "commits_raw = []\n",
    "months = []\n",
    "with open(s_path) as s:\n",
    "  stocks_raw = s.readlines()\n",
    "with open(c_path) as c:\n",
    "  commits_raw = c.readlines()"
   ]
  },
  {
   "cell_type": "code",
   "execution_count": 11,
   "metadata": {},
   "outputs": [
    {
     "data": {
      "text/plain": [
       "2.9810000000000016"
      ]
     },
     "execution_count": 11,
     "metadata": {},
     "output_type": "execute_result"
    }
   ],
   "source": [
    "#stocks\n",
    "i = 0\n",
    "while i < len(stocks_raw):\n",
    "  line = stocks_raw[i].split(\"\\t\")\n",
    "  start_month_string = line[0][0:7]\n",
    "  start_month_price = float(line[1])\n",
    "  found_pair = False\n",
    "  while(found_pair == False):\n",
    "    i+=1\n",
    "    line_end = stocks_raw[i-1].split(\"\\t\")\n",
    "    end_month_price = float(line_end[1])\n",
    "    if(i >= len(stocks_raw)):\n",
    "        stocks_diff.append(end_month_price-start_month_price)\n",
    "        break\n",
    "    line_end = stocks_raw[i].split(\"\\t\")\n",
    "    end_month_string = line_end[0][0:7]\n",
    "    if(start_month_string != end_month_string):\n",
    "        stocks_diff.append(end_month_price-start_month_price)\n",
    "        found_pair = True\n",
    "stocks_diff.pop(0)"
   ]
  },
  {
   "cell_type": "code",
   "execution_count": 12,
   "metadata": {},
   "outputs": [],
   "source": [
    "#commits\n",
    "for i in range (1, len(commits_raw)):\n",
    "  line = commits_raw[i].split(\"\\t\")\n",
    "  line_prev = commits_raw[i-1].split(\"\\t\")\n",
    "  month_string = line[0]\n",
    "  commits = float(line[1])\n",
    "  commits_prev = float(line_prev[1])\n",
    "  months.append(month_string)\n",
    "  commits_diff.append(commits-commits_prev)"
   ]
  },
  {
   "cell_type": "code",
   "execution_count": 13,
   "metadata": {},
   "outputs": [],
   "source": [
    "#calculating correlation coefficients\n",
    "coeff_list = []\n",
    "size = len(commits_diff)\n",
    "for offset in range (0, 10):\n",
    "    rel_matrix = numpy.corrcoef(commits_diff[offset:size],stocks_diff[0:size-offset])\n",
    "    coeff_list.append(rel_matrix[0,1])"
   ]
  },
  {
   "cell_type": "code",
   "execution_count": 14,
   "metadata": {},
   "outputs": [
    {
     "name": "stderr",
     "output_type": "stream",
     "text": [
      "No handles with labels found to put in legend.\n"
     ]
    },
    {
     "name": "stdout",
     "output_type": "stream",
     "text": [
      "offset 0: -0.05899163638601816\n",
      "offset 1: 0.2086642532244677\n",
      "offset 2: -0.03719077341561227\n",
      "offset 3: -0.27278404335433637\n",
      "offset 4: -0.047873174522252246\n",
      "offset 5: -0.07445262402998895\n",
      "offset 6: -0.02399580634308272\n",
      "offset 7: 0.20378767263516162\n",
      "offset 8: 0.10268183629667901\n",
      "offset 9: -0.37924292420628075\n"
     ]
    },
    {
     "data": {
      "image/png": "[encoded data removed]",
      "text/plain": [
       "<Figure size 432x288 with 1 Axes>"
      ]
     },
     "metadata": {},
     "output_type": "display_data"
    }
   ],
   "source": [
    "#graphing\n",
    "offset_list = [0,1,2,3,4,5,6,7,8,9]\n",
    "#plt.plot(day_list, stocks_diff, 10, c=\"red\", alpha=0.5)\n",
    "#plt.xlabel(\"Day of the Year\")\n",
    "#plt.ylabel(\"Change in stocks\")\n",
    "plt.plot(offset_list, coeff_list, 0.5, c=\"red\", alpha=0.5)\n",
    "plt.xlabel(\"month offset\")\n",
    "plt.ylabel(\"correlation coefficient\")\n",
    "plt.legend(loc=2)\n",
    "for i in coeff_list:\n",
    "    print(\"offset \"+str(coeff_list.index(i))+\": \"+str(i))\n",
    "plt.show()"
   ]
  }
 ],
 "metadata": {
  "kernelspec": {
   "display_name": "Python 3",
   "language": "python",
   "name": "python3"
  },
  "language_info": {
   "codemirror_mode": {
    "name": "ipython",
    "version": 3
   },
   "file_extension": ".py",
   "mimetype": "text/x-python",
   "name": "python",
   "nbconvert_exporter": "python",
   "pygments_lexer": "ipython3",
   "version": "3.6.5"
  }
 },
 "nbformat": 4,
 "nbformat_minor": 2
}
